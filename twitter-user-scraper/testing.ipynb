{
 "cells": [
  {
   "cell_type": "code",
   "execution_count": 1,
   "id": "665e3af8",
   "metadata": {},
   "outputs": [],
   "source": [
    "from tweepy import *\n",
    "from datetime import datetime, date, time, timezone, timedelta\n",
    "from collections import Counter\n",
    "import sys\n",
    "import os"
   ]
  },
  {
   "cell_type": "code",
   "execution_count": 2,
   "id": "aea8e2e7",
   "metadata": {},
   "outputs": [
    {
     "data": {
      "text/plain": [
       "True"
      ]
     },
     "execution_count": 2,
     "metadata": {},
     "output_type": "execute_result"
    }
   ],
   "source": [
    "from dotenv import load_dotenv #storing env variables in .env file\n",
    "load_dotenv()"
   ]
  },
  {
   "cell_type": "code",
   "execution_count": null,
   "id": "972d8fec",
   "metadata": {},
   "outputs": [],
   "source": [
    "consumer_key=os.environ.get(\"key\")\n",
    "consumer_secret=os.environ.get(\"secret-key\")\n",
    "access_token = os.environ.get(\"access-token\")\n",
    "access_token_secret = os.environ.get(\"access-token-secret\")\n",
    "\n",
    "auth = OAuthHandler(consumer_key, consumer_secret)\n",
    "auth.set_access_token(access_token, access_token_secret)\n",
    "auth_api = API(auth, wait_on_rate_limit=False)"
   ]
  },
  {
   "cell_type": "code",
   "execution_count": 15,
   "id": "ab57cb30",
   "metadata": {},
   "outputs": [
    {
     "name": "stdout",
     "output_type": "stream",
     "text": [
      "[('Sus man', 16582, '05/20/2022, 19:28:26'), ('@catturd2 They began brewing attacks of all kinds as soon as the Twitter acquisition was announced.\\n\\nIn my 30 year… https://t.co/H1GB2QgwtH', 16902, '05/20/2022, 12:37:56'), ('Tesla is building a hardcore litigation department where we directly initiate &amp; execute lawsuits. The team will rep… https://t.co/ElDf9wWeCV', 17216, '05/20/2022, 20:28:56'), ('@Jim_Jordan All true. \\n\\nBet most people still don’t know that a Clinton campaign lawyer, using campaign funds, crea… https://t.co/oXHmWxPHfb', 21113, '05/20/2022, 18:36:26'), ('Finally, we get to use Elongate as scandal name. It’s kinda perfect. 🤣 https://t.co/qSNH7lsn72', 25976, '05/20/2022, 05:43:53')]\n"
     ]
    }
   ],
   "source": [
    "target = \"elonmusk\"\n",
    "item = auth_api.get_user(screen_name=\"dhruv__s\")\n",
    "#datetime.now(timezone.utc), item.created_at\n",
    "#(datetime.now(timezone.utc) - item.created_at).days\n",
    "tweets = Cursor(auth_api.user_timeline, screen_name=target).items()\n",
    "tws = []\n",
    "rtws = []\n",
    "ht = {}\n",
    "for tw in tweets:\n",
    "    if hasattr(tw, 'retweeted_status'):\n",
    "        rtws.append((tw.text, tw.retweet_count, tw.created_at.strftime(\"%m/%d/%Y, %H:%M:%S\")))\n",
    "    else:\n",
    "        tws.append((tw.text, tw.retweet_count, tw.created_at.strftime(\"%m/%d/%Y, %H:%M:%S\")))\n",
    "     \n",
    "    for h in tw.entities['hashtags']:\n",
    "        if h['text'] in ht:\n",
    "            ht[h['text']] += 1\n",
    "        else:\n",
    "            ht[h['text']] = 1\n",
    "\n",
    "\n",
    "\n",
    "tws.sort(key = lambda x: x[1])\n",
    "rtws.sort(key = lambda x: x[1])\n",
    "#print(sorted(ht, key=ht.get, reverse=True)[:5])\n",
    "print(tws[-6:-1])"
   ]
  },
  {
   "cell_type": "code",
   "execution_count": 22,
   "id": "fa009910",
   "metadata": {},
   "outputs": [
    {
     "name": "stdout",
     "output_type": "stream",
     "text": [
      "{'hokies': 37, 'covid': 35, 'bitcoin': 31, 'inflation': 25, 'virginia': 22}\n"
     ]
    }
   ],
   "source": [
    "x = User(\"rossiadam\")\n",
    "print(x.hashtags)"
   ]
  },
  {
   "cell_type": "code",
   "execution_count": 26,
   "id": "684e380d",
   "metadata": {},
   "outputs": [
    {
     "ename": "TypeError",
     "evalue": "get_user() takes 1 positional argument but 2 were given",
     "output_type": "error",
     "traceback": [
      "\u001b[1;31m---------------------------------------------------------------------------\u001b[0m",
      "\u001b[1;31mTypeError\u001b[0m                                 Traceback (most recent call last)",
      "\u001b[1;32m~\\AppData\\Local\\Temp/ipykernel_13812/4002840725.py\u001b[0m in \u001b[0;36m<module>\u001b[1;34m\u001b[0m\n\u001b[0;32m      1\u001b[0m \u001b[0mtarget\u001b[0m \u001b[1;33m=\u001b[0m \u001b[1;34m\"dhruv__s\"\u001b[0m\u001b[1;33m\u001b[0m\u001b[1;33m\u001b[0m\u001b[0m\n\u001b[0;32m      2\u001b[0m \u001b[1;33m\u001b[0m\u001b[0m\n\u001b[1;32m----> 3\u001b[1;33m \u001b[0mu\u001b[0m \u001b[1;33m=\u001b[0m \u001b[0mauth_api\u001b[0m\u001b[1;33m.\u001b[0m\u001b[0mget_user\u001b[0m\u001b[1;33m(\u001b[0m\u001b[0mtarget\u001b[0m\u001b[1;33m)\u001b[0m\u001b[1;33m\u001b[0m\u001b[1;33m\u001b[0m\u001b[0m\n\u001b[0m\u001b[0;32m      4\u001b[0m \u001b[0mprint\u001b[0m\u001b[1;33m(\u001b[0m\u001b[1;34m\"ID:\"\u001b[0m\u001b[1;33m,\u001b[0m \u001b[0mu\u001b[0m\u001b[1;33m.\u001b[0m\u001b[0mid_str\u001b[0m\u001b[1;33m)\u001b[0m\u001b[1;33m\u001b[0m\u001b[1;33m\u001b[0m\u001b[0m\n\u001b[0;32m      5\u001b[0m \u001b[0mprint\u001b[0m\u001b[1;33m(\u001b[0m\u001b[1;34m\"Grabbing data from: \"\u001b[0m\u001b[1;33m,\u001b[0m \u001b[0mu\u001b[0m\u001b[1;33m.\u001b[0m\u001b[0mscreen_name\u001b[0m\u001b[1;33m)\u001b[0m\u001b[1;33m\u001b[0m\u001b[1;33m\u001b[0m\u001b[0m\n",
      "\u001b[1;32m~\\anaconda3\\lib\\site-packages\\tweepy\\api.py\u001b[0m in \u001b[0;36mwrapper\u001b[1;34m(*args, **kwargs)\u001b[0m\n\u001b[0;32m     44\u001b[0m             \u001b[0mkwargs\u001b[0m\u001b[1;33m[\u001b[0m\u001b[1;34m'payload_list'\u001b[0m\u001b[1;33m]\u001b[0m \u001b[1;33m=\u001b[0m \u001b[0mpayload_list\u001b[0m\u001b[1;33m\u001b[0m\u001b[1;33m\u001b[0m\u001b[0m\n\u001b[0;32m     45\u001b[0m             \u001b[0mkwargs\u001b[0m\u001b[1;33m[\u001b[0m\u001b[1;34m'payload_type'\u001b[0m\u001b[1;33m]\u001b[0m \u001b[1;33m=\u001b[0m \u001b[0mpayload_type\u001b[0m\u001b[1;33m\u001b[0m\u001b[1;33m\u001b[0m\u001b[0m\n\u001b[1;32m---> 46\u001b[1;33m             \u001b[1;32mreturn\u001b[0m \u001b[0mmethod\u001b[0m\u001b[1;33m(\u001b[0m\u001b[1;33m*\u001b[0m\u001b[0margs\u001b[0m\u001b[1;33m,\u001b[0m \u001b[1;33m**\u001b[0m\u001b[0mkwargs\u001b[0m\u001b[1;33m)\u001b[0m\u001b[1;33m\u001b[0m\u001b[1;33m\u001b[0m\u001b[0m\n\u001b[0m\u001b[0;32m     47\u001b[0m         \u001b[0mwrapper\u001b[0m\u001b[1;33m.\u001b[0m\u001b[0mpayload_list\u001b[0m \u001b[1;33m=\u001b[0m \u001b[0mpayload_list\u001b[0m\u001b[1;33m\u001b[0m\u001b[1;33m\u001b[0m\u001b[0m\n\u001b[0;32m     48\u001b[0m         \u001b[0mwrapper\u001b[0m\u001b[1;33m.\u001b[0m\u001b[0mpayload_type\u001b[0m \u001b[1;33m=\u001b[0m \u001b[0mpayload_type\u001b[0m\u001b[1;33m\u001b[0m\u001b[1;33m\u001b[0m\u001b[0m\n",
      "\u001b[1;31mTypeError\u001b[0m: get_user() takes 1 positional argument but 2 were given"
     ]
    }
   ],
   "source": [
    "target = \"dhruv__s\"\n",
    "\n",
    "u = auth_api.get_user(target)\n",
    "print(\"ID:\", u.id_str)\n",
    "print(\"Grabbing data from: \", u.screen_name)\n",
    "\n"
   ]
  },
  {
   "cell_type": "code",
   "execution_count": null,
   "id": "2c5ee887",
   "metadata": {},
   "outputs": [],
   "source": [
    "def get_followers(user_name):\n",
    "    followers = []\n",
    "    fcall = Cursor(auth_api.get_followers, screen_name=user_name).items(20)\n",
    "\n",
    "    for fol in fcall:\n",
    "        try:\n",
    "            followers.append(fol.screen_name)\n",
    "        except TweepError as e:\n",
    "            print(f'Waiting {60}s for limit:', e)\n",
    "            time.sleep(60)\n",
    "\n",
    "    return followers\n",
    "print(get_followers(\"elonmusk\"))"
   ]
  },
  {
   "cell_type": "code",
   "execution_count": 18,
   "id": "d153b0a6",
   "metadata": {},
   "outputs": [],
   "source": [
    "class User:\n",
    "    \n",
    "    def __init__(self, target):\n",
    "        self.target = target\n",
    "        \n",
    "        self.item = auth_api.get_user(screen_name=target)        \n",
    "        self.name = self.item.name\n",
    "        self.user = self.item.screen_name\n",
    "        self.desc = self.item.description\n",
    "        self.follower_count = self.item.followers_count\n",
    "        self.age = (datetime.now(timezone.utc) - self.item.created_at).days\n",
    "        \n",
    "        self.tws, self.rtws, self.hashtags = self.retweets()\n",
    "        \n",
    "        self.followers = self.get_followers()\n",
    "        self.new_followers = self.get_new_followers()\n",
    "        \n",
    "    \n",
    "    def retweets(self):\n",
    "        tweets = Cursor(auth_api.user_timeline, screen_name=self.user).items()\n",
    "        tws = []\n",
    "        rtws = []\n",
    "        ht = {}\n",
    "        \n",
    "        for tw in tweets:\n",
    "            if hasattr(tw, 'retweeted_status'):\n",
    "                rtws.append((tw.text, tw.retweet_count, tw.created_at.strftime(\"%m/%d/%Y, %H:%M:%S\")))\n",
    "            else:\n",
    "                tws.append((tw.text, tw.retweet_count, tw.created_at.strftime(\"%m/%d/%Y, %H:%M:%S\")))\n",
    "                \n",
    "            for h in tw.entities['hashtags']:\n",
    "                if h['text'] in ht:\n",
    "                    ht[h['text']] += 1\n",
    "                else:\n",
    "                    ht[h['text']] = 1\n",
    "                    \n",
    "        if len(ht) >= 5:\n",
    "            ht = dict(Counter(ht).most_common(5))\n",
    "                \n",
    "        tws.sort(key = lambda x: x[1])\n",
    "        rtws.sort(key = lambda x: x[1])\n",
    "        \n",
    "        if len(rtws) < 5 and len(tws) < 5:\n",
    "            return tws, rtws, ht\n",
    "        \n",
    "        if len(rtws) < 5:\n",
    "            return tws[-6:-1], rtws, ht\n",
    "        \n",
    "        if len(tws) < 5:\n",
    "            return tws, rtws[-6:-1], ht\n",
    "            \n",
    "        return tws[-6:-1], rtws[-6:-1], ht\n",
    "    \n",
    "    def get_followers(self):\n",
    "        followers = []\n",
    "        fcall = Cursor(auth_api.get_followers, screen_name=self.user).items(50)\n",
    "        \n",
    "        for fol in fcall:\n",
    "            try:\n",
    "                followers.append(fol.screen_name)\n",
    "            except TweepError as e:\n",
    "                print(f'Waiting {60}s for limit:', e)\n",
    "                time.sleep(60)\n",
    "\n",
    "        return followers\n",
    "    \n",
    "    def get_new_followers(self):\n",
    "        if len(self.followers) < 10:\n",
    "            return self.followers\n",
    "        return self.followers[0:10]\n",
    "    \n",
    "    "
   ]
  },
  {
   "cell_type": "code",
   "execution_count": null,
   "id": "04d0a287",
   "metadata": {},
   "outputs": [],
   "source": []
  }
 ],
 "metadata": {
  "kernelspec": {
   "display_name": "Python 3 (ipykernel)",
   "language": "python",
   "name": "python3"
  },
  "language_info": {
   "codemirror_mode": {
    "name": "ipython",
    "version": 3
   },
   "file_extension": ".py",
   "mimetype": "text/x-python",
   "name": "python",
   "nbconvert_exporter": "python",
   "pygments_lexer": "ipython3",
   "version": "3.9.7"
  }
 },
 "nbformat": 4,
 "nbformat_minor": 5
}
